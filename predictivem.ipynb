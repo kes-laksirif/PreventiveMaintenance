{
  "nbformat": 4,
  "nbformat_minor": 0,
  "metadata": {
    "kernelspec": {
      "display_name": "Python 3",
      "language": "python",
      "name": "python3"
    },
    "language_info": {
      "codemirror_mode": {
        "name": "ipython",
        "version": 3
      },
      "file_extension": ".py",
      "mimetype": "text/x-python",
      "name": "python",
      "nbconvert_exporter": "python",
      "pygments_lexer": "ipython3",
      "version": "3.8.5"
    },
    "colab": {
      "name": "predictivem.ipynb",
      "provenance": [],
      "include_colab_link": true
    }
  },
  "cells": [
    {
      "cell_type": "markdown",
      "metadata": {
        "id": "view-in-github",
        "colab_type": "text"
      },
      "source": [
        "<a href=\"https://colab.research.google.com/github/kes-laksirif/PreventiveMaintenance/blob/main/predictivem.ipynb\" target=\"_parent\"><img src=\"https://colab.research.google.com/assets/colab-badge.svg\" alt=\"Open In Colab\"/></a>"
      ]
    },
    {
      "cell_type": "code",
      "metadata": {
        "id": "6JmNZ6HIN5sV"
      },
      "source": [
        "import pandas as pd\n",
        "from sklearn.tree import DecisionTreeClassifier\n",
        "from sklearn.linear_model import LinearRegression\n",
        "from sklearn.model_selection import train_test_split\n",
        "from sklearn.metrics import accuracy_score\n",
        "import datetime\n",
        "from sklearn.preprocessing import LabelEncoder\n",
        "from sklearn.metrics import mean_squared_error, r2_score, mean_absolute_error"
      ],
      "execution_count": 1,
      "outputs": []
    },
    {
      "cell_type": "code",
      "metadata": {
        "id": "Bx6DzTO2N5sf"
      },
      "source": [
        "## Import Data"
      ],
      "execution_count": null,
      "outputs": []
    },
    {
      "cell_type": "code",
      "metadata": {
        "colab": {
          "base_uri": "https://localhost:8080/"
        },
        "id": "vALc3UCeN5sg",
        "outputId": "8632b8ca-8421-48dd-c76c-74d2193932e1"
      },
      "source": [
        "break_data = pd.read_csv('https://raw.githubusercontent.com/kes-laksirif/PreventiveMaintenance/main/predictivem.csv')\n",
        "len(break_data)"
      ],
      "execution_count": 4,
      "outputs": [
        {
          "output_type": "execute_result",
          "data": {
            "text/plain": [
              "11910"
            ]
          },
          "metadata": {
            "tags": []
          },
          "execution_count": 4
        }
      ]
    },
    {
      "cell_type": "code",
      "metadata": {
        "id": "18Jl3d1YN5sh"
      },
      "source": [
        "## Clean Data"
      ],
      "execution_count": null,
      "outputs": []
    },
    {
      "cell_type": "code",
      "metadata": {
        "colab": {
          "base_uri": "https://localhost:8080/"
        },
        "id": "mXcNgKNbN5si",
        "outputId": "81bdc8a9-2874-4195-c209-07d6382a4225"
      },
      "source": [
        "# Delete null data\n",
        "break_data = break_data.dropna(how='all')\n",
        "len(break_data)"
      ],
      "execution_count": 5,
      "outputs": [
        {
          "output_type": "execute_result",
          "data": {
            "text/plain": [
              "11910"
            ]
          },
          "metadata": {
            "tags": []
          },
          "execution_count": 5
        }
      ]
    },
    {
      "cell_type": "code",
      "metadata": {
        "colab": {
          "base_uri": "https://localhost:8080/"
        },
        "id": "TuZ4DUw_N5si",
        "outputId": "e4505d69-17fd-41a6-ac23-9ecdc34676de"
      },
      "source": [
        "# Validate nextBreak against breakTime (nextBreak > breakTime)\n",
        "break_data.drop(break_data[break_data['breakTime']>break_data['nextBreak'] ].index, inplace = True)\n",
        "len(break_data)"
      ],
      "execution_count": 6,
      "outputs": [
        {
          "output_type": "execute_result",
          "data": {
            "text/plain": [
              "11884"
            ]
          },
          "metadata": {
            "tags": []
          },
          "execution_count": 6
        }
      ]
    },
    {
      "cell_type": "code",
      "metadata": {
        "id": "01EZ1VddN5sj"
      },
      "source": [
        "# Convert date values to numeric\n",
        "def time_to_num(passTime):\n",
        "  initDate = datetime.datetime(2019,1,1,0,0,0)\n",
        "  datePart = int(passTime[:2])\n",
        "  monthPart = int(passTime[3:5])\n",
        "  yearPart = int(passTime[6:10])\n",
        "  hourPart = int(passTime[11:13])\n",
        "  minutePart = int(passTime[14:16])\n",
        "  secondPart = int(passTime[17:19])\n",
        "  passTimeNum = datetime.datetime(yearPart,monthPart,datePart,hourPart,minutePart,secondPart)\n",
        "  diff = passTimeNum - initDate\n",
        "  result = int(diff.total_seconds())\n",
        "  return result\n",
        "\n",
        "break_data[\"breakTime\"] = break_data['breakTime'].apply(time_to_num)\n",
        "break_data[\"nextBreak\"] = break_data['nextBreak'].apply(time_to_num)"
      ],
      "execution_count": 7,
      "outputs": []
    },
    {
      "cell_type": "code",
      "metadata": {
        "id": "1FgNLAh0N5sj"
      },
      "source": [
        "# Convert string values to numeric\n",
        "labelencoder = LabelEncoder()\n",
        "break_data['machine'] = labelencoder.fit_transform(break_data['machine'])\n",
        "break_data['reason'] = labelencoder.fit_transform(break_data['reason'])\n",
        "#break_data"
      ],
      "execution_count": 8,
      "outputs": []
    },
    {
      "cell_type": "code",
      "metadata": {
        "id": "iNBqyCXjN5sk"
      },
      "source": [
        "X = break_data.drop(columns=['nextBreak'])\n",
        "y = break_data.drop(columns=['reason','machine','breakTime'])"
      ],
      "execution_count": 9,
      "outputs": []
    },
    {
      "cell_type": "code",
      "metadata": {
        "id": "_ZjI-I-tN5sk"
      },
      "source": [
        "## Split the data into Training and Test"
      ],
      "execution_count": null,
      "outputs": []
    },
    {
      "cell_type": "code",
      "metadata": {
        "id": "2K7k4I3UN5sl"
      },
      "source": [
        "X_train, X_test, y_train, y_test = train_test_split(X, y, test_size=0.2)"
      ],
      "execution_count": 10,
      "outputs": []
    },
    {
      "cell_type": "code",
      "metadata": {
        "id": "GBGCW_FeN5sl"
      },
      "source": [
        "## Create a model"
      ],
      "execution_count": null,
      "outputs": []
    },
    {
      "cell_type": "code",
      "metadata": {
        "id": "gjgxLO8FN5sl"
      },
      "source": [
        "# model = DecisionTreeClassifier()"
      ],
      "execution_count": null,
      "outputs": []
    },
    {
      "cell_type": "code",
      "metadata": {
        "id": "f92vue_bN5sm"
      },
      "source": [
        "model = LinearRegression()"
      ],
      "execution_count": 11,
      "outputs": []
    },
    {
      "cell_type": "code",
      "metadata": {
        "id": "WRwsIcxnN5sm"
      },
      "source": [
        "## Train the model"
      ],
      "execution_count": null,
      "outputs": []
    },
    {
      "cell_type": "code",
      "metadata": {
        "colab": {
          "base_uri": "https://localhost:8080/"
        },
        "id": "LPMadjy1N5sm",
        "outputId": "afecc3fb-e72a-40c3-b8f8-194db9208cfc"
      },
      "source": [
        "model.fit(X_train, y_train)"
      ],
      "execution_count": 12,
      "outputs": [
        {
          "output_type": "execute_result",
          "data": {
            "text/plain": [
              "LinearRegression(copy_X=True, fit_intercept=True, n_jobs=None, normalize=False)"
            ]
          },
          "metadata": {
            "tags": []
          },
          "execution_count": 12
        }
      ]
    },
    {
      "cell_type": "code",
      "metadata": {
        "id": "6tOTq395N5sn"
      },
      "source": [
        "## Make predictions"
      ],
      "execution_count": null,
      "outputs": []
    },
    {
      "cell_type": "code",
      "metadata": {
        "colab": {
          "base_uri": "https://localhost:8080/"
        },
        "id": "PPWa3itpN5sn",
        "outputId": "db0de25a-475d-4155-fc40-299f16283a7a"
      },
      "source": [
        "predictions = model.predict(X_test)\n",
        "predictions"
      ],
      "execution_count": 13,
      "outputs": [
        {
          "output_type": "execute_result",
          "data": {
            "text/plain": [
              "array([[15338646.87558704],\n",
              "       [  243903.30066702],\n",
              "       [ 4385219.07444206],\n",
              "       ...,\n",
              "       [35211852.81283988],\n",
              "       [  748611.95015819],\n",
              "       [42974479.61559232]])"
            ]
          },
          "metadata": {
            "tags": []
          },
          "execution_count": 13
        }
      ]
    },
    {
      "cell_type": "code",
      "metadata": {
        "id": "6HXSP7KjN5sn"
      },
      "source": [
        "## Evaluate and improve"
      ],
      "execution_count": null,
      "outputs": []
    },
    {
      "cell_type": "code",
      "metadata": {
        "id": "azfdmGIJN5so"
      },
      "source": [
        "# score = accuracy_score(y_test, predictions)\n",
        "# score"
      ],
      "execution_count": null,
      "outputs": []
    },
    {
      "cell_type": "code",
      "metadata": {
        "colab": {
          "base_uri": "https://localhost:8080/"
        },
        "id": "1Q121HMZN5so",
        "outputId": "2db296e9-2062-4c7b-b63d-614ddfe93ff0"
      },
      "source": [
        "r2_score_value = r2_score(y_test, predictions) \n",
        "r2_score_value"
      ],
      "execution_count": 14,
      "outputs": [
        {
          "output_type": "execute_result",
          "data": {
            "text/plain": [
              "0.9999805677275914"
            ]
          },
          "metadata": {
            "tags": []
          },
          "execution_count": 14
        }
      ]
    },
    {
      "cell_type": "code",
      "metadata": {
        "id": "-a2EHYXAN5so"
      },
      "source": [
        ""
      ],
      "execution_count": null,
      "outputs": []
    }
  ]
}